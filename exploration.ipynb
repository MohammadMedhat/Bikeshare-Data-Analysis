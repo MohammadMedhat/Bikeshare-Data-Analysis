{
 "cells": [
  {
   "cell_type": "markdown",
   "metadata": {},
   "source": [
    "# Communicate Data Findings\n",
    "\n",
    "## By Mohammed Medhat\n",
    "\n",
    "> This project was created using colab. I usd a 'requests' package to download the data to drive. Then in the notebook you will find unzipping the data, merging it, saving clean data into a dataframe, saving the dataframe, zipping it and then visualizations"
   ]
  },
  {
   "cell_type": "code",
   "execution_count": 2,
   "metadata": {
    "colab": {
     "base_uri": "https://localhost:8080/",
     "height": 34
    },
    "id": "DO8TCIONJyxc",
    "outputId": "f43901a9-5da5-4110-9d0a-5f2cc86d1428"
   },
   "outputs": [
    {
     "name": "stdout",
     "output_type": "stream",
     "text": [
      "Drive already mounted at /content/drive/; to attempt to forcibly remount, call drive.mount(\"/content/drive/\", force_remount=True).\n"
     ]
    }
   ],
   "source": [
    "# Mounting data from drive into Colab\n",
    "# from google.colab import drive\n",
    "# drive.mount('/content/drive/')"
   ]
  },
  {
   "cell_type": "code",
   "execution_count": 3,
   "metadata": {
    "colab": {
     "base_uri": "https://localhost:8080/",
     "height": 71
    },
    "id": "wkcuiNnO9GVa",
    "outputId": "e45a2dfd-f770-4e5f-af02-962ce362aef6"
   },
   "outputs": [
    {
     "name": "stderr",
     "output_type": "stream",
     "text": [
      "/usr/local/lib/python3.6/dist-packages/statsmodels/tools/_testing.py:19: FutureWarning: pandas.util.testing is deprecated. Use the functions in the public API at pandas.testing instead.\n",
      "  import pandas.util.testing as tm\n"
     ]
    }
   ],
   "source": [
    "# import needed packages\n",
    "import numpy as np\n",
    "import pandas as pd\n",
    "import seaborn as sns\n",
    "from matplotlib import pyplot as plt\n",
    "import glob\n",
    "import os, shutil\n",
    "import datetime"
   ]
  },
  {
   "cell_type": "markdown",
   "metadata": {},
   "source": [
    "##### We need to run this part once just for reading and merging the data files. After cleaning we can save clean data into another csv file or pickle it and start from there when we continue our work\n"
   ]
  },
  {
   "cell_type": "markdown",
   "metadata": {},
   "source": [
    "First we unzip the downloaded files"
   ]
  },
  {
   "cell_type": "code",
   "execution_count": null,
   "metadata": {
    "id": "slZLB3DSKbB5"
   },
   "outputs": [],
   "source": [
    "# import os, zipfile\n",
    "\n",
    "# dir_name = '/content/drive/My Drive/Datasets/Ford GoBike System Data'\n",
    "# extension = \".zip\"\n",
    "\n",
    "# os.chdir(dir_name)    # change directory from working dir to dir with files\n",
    "\n",
    "# for item in os.listdir(dir_name): # loop through items in dir\n",
    "#     if item.endswith(extension): # check for \".zip\" extension\n",
    "#         file_name = os.path.abspath(item) # get full path of files\n",
    "#         zip_ref = zipfile.ZipFile(file_name) # create zipfile object\n",
    "#         zip_ref.extractall(dir_name) # extract file to dir\n",
    "#         zip_ref.close() # close file\n",
    "#         os.remove(file_name) # delete zipped file\n",
    "\n",
    "# shutil.rmtree('__MACOSX')"
   ]
  },
  {
   "cell_type": "markdown",
   "metadata": {},
   "source": [
    "Then we read them into a data frame"
   ]
  },
  {
   "cell_type": "code",
   "execution_count": null,
   "metadata": {
    "id": "ZXCtC5Kf9GVl"
   },
   "outputs": [],
   "source": [
    "#parts = glob.glob(\"./*.csv\")\n",
    "\n",
    "#len(parts)"
   ]
  },
  {
   "cell_type": "code",
   "execution_count": null,
   "metadata": {
    "colab": {
     "base_uri": "https://localhost:8080/",
     "height": 139
    },
    "id": "Op2wydL4MnCL",
    "outputId": "5eb7f84d-eca0-423c-e84b-abb8c523b6b7"
   },
   "outputs": [
    {
     "name": "stderr",
     "output_type": "stream",
     "text": [
      "/usr/local/lib/python3.6/dist-packages/IPython/core/interactiveshell.py:2718: DtypeWarning: Columns (14) have mixed types.Specify dtype option on import or set low_memory=False.\n",
      "  interactivity=interactivity, compiler=compiler, result=result)\n",
      "/usr/local/lib/python3.6/dist-packages/IPython/core/interactiveshell.py:2718: DtypeWarning: Columns (13,14) have mixed types.Specify dtype option on import or set low_memory=False.\n",
      "  interactivity=interactivity, compiler=compiler, result=result)\n",
      "/usr/local/lib/python3.6/dist-packages/IPython/core/interactiveshell.py:2718: DtypeWarning: Columns (13) have mixed types.Specify dtype option on import or set low_memory=False.\n",
      "  interactivity=interactivity, compiler=compiler, result=result)\n"
     ]
    }
   ],
   "source": [
    "# I used this cell only to read the data and now we don't need to run it again\n",
    "# df_list = []\n",
    "# converter = {'started_at' : 'start_time','ended_at' : 'end_time','start_station_latitude' : 'start_lat',\n",
    "#              'start_station_longitude' : 'start_lng','end_station_latitude' : 'end_lat',\n",
    "#              'end_station_longitude' : 'end_lng', 'member_casual' : 'user_type' }\n",
    "# for part in parts:\n",
    "#     df = pd.read_csv(part)\n",
    "#     df.rename(columns = converter, inplace = True)\n",
    "#     df_list.append(df)\n",
    "# bike_df = pd.concat(df_list, axis=0, ignore_index=True, sort=False)"
   ]
  },
  {
   "cell_type": "code",
   "execution_count": 2,
   "metadata": {
    "id": "wdmtP-AVVhK2"
   },
   "outputs": [],
   "source": [
    "# set pandas option to display all columns for exploring purposes\n",
    "\n",
    "pd.set_option('display.max_columns', None)\n",
    "#pd.set_option('display.max_rows', None)"
   ]
  },
  {
   "cell_type": "code",
   "execution_count": null,
   "metadata": {
    "colab": {
     "base_uri": "https://localhost:8080/",
     "height": 377
    },
    "id": "o6IylVsVNksz",
    "outputId": "fab820ae-c381-4d6d-d239-d6ebc8b6fcef"
   },
   "outputs": [
    {
     "name": "stdout",
     "output_type": "stream",
     "text": [
      "(6483502, 18)\n"
     ]
    },
    {
     "data": {
      "text/html": [
       "<div>\n",
       "<style scoped>\n",
       "    .dataframe tbody tr th:only-of-type {\n",
       "        vertical-align: middle;\n",
       "    }\n",
       "\n",
       "    .dataframe tbody tr th {\n",
       "        vertical-align: top;\n",
       "    }\n",
       "\n",
       "    .dataframe thead th {\n",
       "        text-align: right;\n",
       "    }\n",
       "</style>\n",
       "<table border=\"1\" class=\"dataframe\">\n",
       "  <thead>\n",
       "    <tr style=\"text-align: right;\">\n",
       "      <th></th>\n",
       "      <th>duration_sec</th>\n",
       "      <th>start_time</th>\n",
       "      <th>end_time</th>\n",
       "      <th>start_station_id</th>\n",
       "      <th>start_station_name</th>\n",
       "      <th>start_lat</th>\n",
       "      <th>start_lng</th>\n",
       "      <th>end_station_id</th>\n",
       "      <th>end_station_name</th>\n",
       "      <th>end_lat</th>\n",
       "      <th>end_lng</th>\n",
       "      <th>bike_id</th>\n",
       "      <th>user_type</th>\n",
       "      <th>bike_share_for_all_trip</th>\n",
       "      <th>rental_access_method</th>\n",
       "      <th>ride_id</th>\n",
       "      <th>rideable_type</th>\n",
       "      <th>is_equity</th>\n",
       "    </tr>\n",
       "  </thead>\n",
       "  <tbody>\n",
       "    <tr>\n",
       "      <th>0</th>\n",
       "      <td>80110.0</td>\n",
       "      <td>2017-12-31 16:57:39.6540</td>\n",
       "      <td>2018-01-01 15:12:50.2450</td>\n",
       "      <td>74.0</td>\n",
       "      <td>Laguna St at Hayes St</td>\n",
       "      <td>37.776435</td>\n",
       "      <td>-122.426244</td>\n",
       "      <td>43.0</td>\n",
       "      <td>San Francisco Public Library (Grove St at Hyde...</td>\n",
       "      <td>37.778768</td>\n",
       "      <td>-122.415929</td>\n",
       "      <td>96.0</td>\n",
       "      <td>Customer</td>\n",
       "      <td>NaN</td>\n",
       "      <td>NaN</td>\n",
       "      <td>NaN</td>\n",
       "      <td>NaN</td>\n",
       "      <td>NaN</td>\n",
       "    </tr>\n",
       "    <tr>\n",
       "      <th>1</th>\n",
       "      <td>78800.0</td>\n",
       "      <td>2017-12-31 15:56:34.8420</td>\n",
       "      <td>2018-01-01 13:49:55.6170</td>\n",
       "      <td>284.0</td>\n",
       "      <td>Yerba Buena Center for the Arts (Howard St at ...</td>\n",
       "      <td>37.784872</td>\n",
       "      <td>-122.400876</td>\n",
       "      <td>96.0</td>\n",
       "      <td>Dolores St at 15th St</td>\n",
       "      <td>37.766210</td>\n",
       "      <td>-122.426614</td>\n",
       "      <td>88.0</td>\n",
       "      <td>Customer</td>\n",
       "      <td>NaN</td>\n",
       "      <td>NaN</td>\n",
       "      <td>NaN</td>\n",
       "      <td>NaN</td>\n",
       "      <td>NaN</td>\n",
       "    </tr>\n",
       "    <tr>\n",
       "      <th>2</th>\n",
       "      <td>45768.0</td>\n",
       "      <td>2017-12-31 22:45:48.4110</td>\n",
       "      <td>2018-01-01 11:28:36.8830</td>\n",
       "      <td>245.0</td>\n",
       "      <td>Downtown Berkeley BART</td>\n",
       "      <td>37.870348</td>\n",
       "      <td>-122.267764</td>\n",
       "      <td>245.0</td>\n",
       "      <td>Downtown Berkeley BART</td>\n",
       "      <td>37.870348</td>\n",
       "      <td>-122.267764</td>\n",
       "      <td>1094.0</td>\n",
       "      <td>Customer</td>\n",
       "      <td>NaN</td>\n",
       "      <td>NaN</td>\n",
       "      <td>NaN</td>\n",
       "      <td>NaN</td>\n",
       "      <td>NaN</td>\n",
       "    </tr>\n",
       "    <tr>\n",
       "      <th>3</th>\n",
       "      <td>62172.0</td>\n",
       "      <td>2017-12-31 17:31:10.6360</td>\n",
       "      <td>2018-01-01 10:47:23.5310</td>\n",
       "      <td>60.0</td>\n",
       "      <td>8th St at Ringold St</td>\n",
       "      <td>37.774520</td>\n",
       "      <td>-122.409449</td>\n",
       "      <td>5.0</td>\n",
       "      <td>Powell St BART Station (Market St at 5th St)</td>\n",
       "      <td>37.783899</td>\n",
       "      <td>-122.408445</td>\n",
       "      <td>2831.0</td>\n",
       "      <td>Customer</td>\n",
       "      <td>NaN</td>\n",
       "      <td>NaN</td>\n",
       "      <td>NaN</td>\n",
       "      <td>NaN</td>\n",
       "      <td>NaN</td>\n",
       "    </tr>\n",
       "    <tr>\n",
       "      <th>4</th>\n",
       "      <td>43603.0</td>\n",
       "      <td>2017-12-31 14:23:14.0010</td>\n",
       "      <td>2018-01-01 02:29:57.5710</td>\n",
       "      <td>239.0</td>\n",
       "      <td>Bancroft Way at Telegraph Ave</td>\n",
       "      <td>37.868813</td>\n",
       "      <td>-122.258764</td>\n",
       "      <td>247.0</td>\n",
       "      <td>Fulton St at Bancroft Way</td>\n",
       "      <td>37.867789</td>\n",
       "      <td>-122.265896</td>\n",
       "      <td>3167.0</td>\n",
       "      <td>Subscriber</td>\n",
       "      <td>NaN</td>\n",
       "      <td>NaN</td>\n",
       "      <td>NaN</td>\n",
       "      <td>NaN</td>\n",
       "      <td>NaN</td>\n",
       "    </tr>\n",
       "  </tbody>\n",
       "</table>\n",
       "</div>"
      ],
      "text/plain": [
       "   duration_sec                start_time                  end_time  \\\n",
       "0       80110.0  2017-12-31 16:57:39.6540  2018-01-01 15:12:50.2450   \n",
       "1       78800.0  2017-12-31 15:56:34.8420  2018-01-01 13:49:55.6170   \n",
       "2       45768.0  2017-12-31 22:45:48.4110  2018-01-01 11:28:36.8830   \n",
       "3       62172.0  2017-12-31 17:31:10.6360  2018-01-01 10:47:23.5310   \n",
       "4       43603.0  2017-12-31 14:23:14.0010  2018-01-01 02:29:57.5710   \n",
       "\n",
       "   start_station_id                                 start_station_name  \\\n",
       "0              74.0                              Laguna St at Hayes St   \n",
       "1             284.0  Yerba Buena Center for the Arts (Howard St at ...   \n",
       "2             245.0                             Downtown Berkeley BART   \n",
       "3              60.0                               8th St at Ringold St   \n",
       "4             239.0                      Bancroft Way at Telegraph Ave   \n",
       "\n",
       "   start_lat   start_lng  end_station_id  \\\n",
       "0  37.776435 -122.426244            43.0   \n",
       "1  37.784872 -122.400876            96.0   \n",
       "2  37.870348 -122.267764           245.0   \n",
       "3  37.774520 -122.409449             5.0   \n",
       "4  37.868813 -122.258764           247.0   \n",
       "\n",
       "                                    end_station_name    end_lat     end_lng  \\\n",
       "0  San Francisco Public Library (Grove St at Hyde...  37.778768 -122.415929   \n",
       "1                              Dolores St at 15th St  37.766210 -122.426614   \n",
       "2                             Downtown Berkeley BART  37.870348 -122.267764   \n",
       "3       Powell St BART Station (Market St at 5th St)  37.783899 -122.408445   \n",
       "4                          Fulton St at Bancroft Way  37.867789 -122.265896   \n",
       "\n",
       "   bike_id   user_type bike_share_for_all_trip rental_access_method ride_id  \\\n",
       "0     96.0    Customer                     NaN                  NaN     NaN   \n",
       "1     88.0    Customer                     NaN                  NaN     NaN   \n",
       "2   1094.0    Customer                     NaN                  NaN     NaN   \n",
       "3   2831.0    Customer                     NaN                  NaN     NaN   \n",
       "4   3167.0  Subscriber                     NaN                  NaN     NaN   \n",
       "\n",
       "  rideable_type is_equity  \n",
       "0           NaN       NaN  \n",
       "1           NaN       NaN  \n",
       "2           NaN       NaN  \n",
       "3           NaN       NaN  \n",
       "4           NaN       NaN  "
      ]
     },
     "execution_count": 98,
     "metadata": {
      "tags": []
     },
     "output_type": "execute_result"
    }
   ],
   "source": [
    "print(bike_df.shape)\n",
    "bike_df.head()"
   ]
  },
  {
   "cell_type": "markdown",
   "metadata": {},
   "source": [
    "## Now let's start cleaning data"
   ]
  },
  {
   "cell_type": "code",
   "execution_count": null,
   "metadata": {
    "id": "TQYeUm-BV8ui"
   },
   "outputs": [],
   "source": [
    "bike_df.duration_sec = pd.to_timedelta(bike_df.duration_sec)"
   ]
  },
  {
   "cell_type": "code",
   "execution_count": null,
   "metadata": {
    "id": "LN74SgbjWRlp"
   },
   "outputs": [],
   "source": [
    "bike_df.start_time = pd.to_datetime(bike_df.start_time)\n",
    "bike_df.end_time = pd.to_datetime(bike_df.end_time)\n",
    "bike_df.duration_sec = bike_df.end_time - bike_df.start_time\n",
    "bike_df.duration_sec = bike_df.duration_sec.dt.total_seconds()"
   ]
  },
  {
   "cell_type": "code",
   "execution_count": null,
   "metadata": {
    "colab": {
     "base_uri": "https://localhost:8080/",
     "height": 34
    },
    "id": "TohZ4QsDO6PZ",
    "outputId": "fe94b6f0-5aae-4272-c900-53f927fd0624"
   },
   "outputs": [
    {
     "data": {
      "text/plain": [
       "(6483502, 18)"
      ]
     },
     "execution_count": 101,
     "metadata": {
      "tags": []
     },
     "output_type": "execute_result"
    }
   ],
   "source": [
    "bike_df.shape"
   ]
  },
  {
   "cell_type": "code",
   "execution_count": 3,
   "metadata": {
    "colab": {
     "base_uri": "https://localhost:8080/",
     "height": 163
    },
    "id": "RbQn5cETOCSv",
    "outputId": "249ccdf5-a560-4274-ec06-78d7646a2b4d"
   },
   "outputs": [],
   "source": [
    "bike_df.isna().sum()"
   ]
  },
  {
   "cell_type": "code",
   "execution_count": null,
   "metadata": {
    "id": "WWnZxsixY5Zf"
   },
   "outputs": [],
   "source": [
    "bike_df.drop(['start_station_name', 'end_station_name', 'bike_share_for_all_trip', 'rental_access_method', 'ride_id', 'rideable_type', 'is_equity'], axis = 1, inplace = True)"
   ]
  },
  {
   "cell_type": "code",
   "execution_count": null,
   "metadata": {
    "id": "lwMhuIU_a-AK"
   },
   "outputs": [],
   "source": [
    "bike_df.dropna(subset = ['end_lat', 'end_lng', 'start_station_id', 'end_station_id'], inplace = True)"
   ]
  },
  {
   "cell_type": "code",
   "execution_count": null,
   "metadata": {
    "colab": {
     "base_uri": "https://localhost:8080/",
     "height": 102
    },
    "id": "wc8s6yEXZ-8x",
    "outputId": "22172a53-2f5e-4be8-b07d-f8abe2e3fafa"
   },
   "outputs": [
    {
     "data": {
      "text/plain": [
       "Subscriber    3985882\n",
       "Customer      1138476\n",
       "casual         193099\n",
       "member         170342\n",
       "Name: user_type, dtype: int64"
      ]
     },
     "execution_count": 105,
     "metadata": {
      "tags": []
     },
     "output_type": "execute_result"
    }
   ],
   "source": [
    "bike_df.user_type.value_counts()"
   ]
  },
  {
   "cell_type": "code",
   "execution_count": null,
   "metadata": {
    "colab": {
     "base_uri": "https://localhost:8080/",
     "height": 68
    },
    "id": "NMhlI9f6aHGb",
    "outputId": "d7f4debb-3097-495b-edb6-daf917d43dde"
   },
   "outputs": [
    {
     "data": {
      "text/plain": [
       "Subscriber    4156224\n",
       "Customer      1331575\n",
       "Name: user_type, dtype: int64"
      ]
     },
     "execution_count": 106,
     "metadata": {
      "tags": []
     },
     "output_type": "execute_result"
    }
   ],
   "source": [
    "bike_df.user_type.replace('member', 'Subscriber', inplace = True)\n",
    "bike_df.user_type.replace('casual', 'Customer', inplace = True)\n",
    "bike_df.user_type.value_counts()"
   ]
  },
  {
   "cell_type": "code",
   "execution_count": null,
   "metadata": {
    "colab": {
     "base_uri": "https://localhost:8080/",
     "height": 34
    },
    "id": "UKfupWUAb0Hi",
    "outputId": "1ef787f2-3e59-4b0c-e2bf-199ba4dc30e3"
   },
   "outputs": [
    {
     "data": {
      "text/plain": [
       "(5487799, 11)"
      ]
     },
     "execution_count": 107,
     "metadata": {
      "tags": []
     },
     "output_type": "execute_result"
    }
   ],
   "source": [
    "bike_df.shape"
   ]
  },
  {
   "cell_type": "code",
   "execution_count": null,
   "metadata": {
    "colab": {
     "base_uri": "https://localhost:8080/",
     "height": 221
    },
    "id": "78AE8K7kbjWg",
    "outputId": "72677662-adf3-4a0d-aa98-17e50bcd39ed"
   },
   "outputs": [
    {
     "data": {
      "text/plain": [
       "duration_sec             0\n",
       "start_time               0\n",
       "end_time                 0\n",
       "start_station_id         0\n",
       "start_lat                0\n",
       "start_lng                0\n",
       "end_station_id           0\n",
       "end_lat                  0\n",
       "end_lng                  0\n",
       "bike_id             363441\n",
       "user_type                0\n",
       "dtype: int64"
      ]
     },
     "execution_count": 108,
     "metadata": {
      "tags": []
     },
     "output_type": "execute_result"
    }
   ],
   "source": [
    "bike_df.isna().sum()"
   ]
  },
  {
   "cell_type": "code",
   "execution_count": null,
   "metadata": {
    "colab": {
     "base_uri": "https://localhost:8080/",
     "height": 34
    },
    "id": "l0KhjBWGf0m_",
    "outputId": "c44e1b00-0a17-4208-dc6d-e53a7b5dc00b"
   },
   "outputs": [
    {
     "data": {
      "text/plain": [
       "(Timestamp('2020-04-01 00:00:38'), Timestamp('2020-08-31 23:57:21'))"
      ]
     },
     "execution_count": 109,
     "metadata": {
      "tags": []
     },
     "output_type": "execute_result"
    }
   ],
   "source": [
    "bike_df[bike_df.bike_id.isna()].start_time.min() , bike_df[bike_df.bike_id.isna()].start_time.max()"
   ]
  },
  {
   "cell_type": "code",
   "execution_count": null,
   "metadata": {
    "id": "-QM_yykwf_mn"
   },
   "outputs": [],
   "source": [
    "bike_df.drop('bike_id', axis = 1, inplace = True)"
   ]
  },
  {
   "cell_type": "code",
   "execution_count": null,
   "metadata": {
    "colab": {
     "base_uri": "https://localhost:8080/",
     "height": 204
    },
    "id": "WnBRA-qcgNZX",
    "outputId": "12588fc0-d931-4103-b0bb-adafa28e6891"
   },
   "outputs": [
    {
     "data": {
      "text/plain": [
       "duration_sec        0\n",
       "start_time          0\n",
       "end_time            0\n",
       "start_station_id    0\n",
       "start_lat           0\n",
       "start_lng           0\n",
       "end_station_id      0\n",
       "end_lat             0\n",
       "end_lng             0\n",
       "user_type           0\n",
       "dtype: int64"
      ]
     },
     "execution_count": 111,
     "metadata": {
      "tags": []
     },
     "output_type": "execute_result"
    }
   ],
   "source": [
    "bike_df.isna().sum()"
   ]
  },
  {
   "cell_type": "code",
   "execution_count": null,
   "metadata": {
    "colab": {
     "base_uri": "https://localhost:8080/",
     "height": 309
    },
    "id": "LPrxapJF9GV7",
    "outputId": "dabe52cc-77b7-40a8-f539-ac79d443cc36",
    "scrolled": false
   },
   "outputs": [
    {
     "data": {
      "text/html": [
       "<div>\n",
       "<style scoped>\n",
       "    .dataframe tbody tr th:only-of-type {\n",
       "        vertical-align: middle;\n",
       "    }\n",
       "\n",
       "    .dataframe tbody tr th {\n",
       "        vertical-align: top;\n",
       "    }\n",
       "\n",
       "    .dataframe thead th {\n",
       "        text-align: right;\n",
       "    }\n",
       "</style>\n",
       "<table border=\"1\" class=\"dataframe\">\n",
       "  <thead>\n",
       "    <tr style=\"text-align: right;\">\n",
       "      <th></th>\n",
       "      <th>duration_sec</th>\n",
       "      <th>start_time</th>\n",
       "      <th>end_time</th>\n",
       "      <th>start_station_id</th>\n",
       "      <th>start_lat</th>\n",
       "      <th>start_lng</th>\n",
       "      <th>end_station_id</th>\n",
       "      <th>end_lat</th>\n",
       "      <th>end_lng</th>\n",
       "      <th>user_type</th>\n",
       "    </tr>\n",
       "  </thead>\n",
       "  <tbody>\n",
       "    <tr>\n",
       "      <th>0</th>\n",
       "      <td>80110.591</td>\n",
       "      <td>2017-12-31 16:57:39.654</td>\n",
       "      <td>2018-01-01 15:12:50.245</td>\n",
       "      <td>74.0</td>\n",
       "      <td>37.776435</td>\n",
       "      <td>-122.426244</td>\n",
       "      <td>43.0</td>\n",
       "      <td>37.778768</td>\n",
       "      <td>-122.415929</td>\n",
       "      <td>Customer</td>\n",
       "    </tr>\n",
       "    <tr>\n",
       "      <th>1</th>\n",
       "      <td>78800.775</td>\n",
       "      <td>2017-12-31 15:56:34.842</td>\n",
       "      <td>2018-01-01 13:49:55.617</td>\n",
       "      <td>284.0</td>\n",
       "      <td>37.784872</td>\n",
       "      <td>-122.400876</td>\n",
       "      <td>96.0</td>\n",
       "      <td>37.766210</td>\n",
       "      <td>-122.426614</td>\n",
       "      <td>Customer</td>\n",
       "    </tr>\n",
       "    <tr>\n",
       "      <th>2</th>\n",
       "      <td>45768.472</td>\n",
       "      <td>2017-12-31 22:45:48.411</td>\n",
       "      <td>2018-01-01 11:28:36.883</td>\n",
       "      <td>245.0</td>\n",
       "      <td>37.870348</td>\n",
       "      <td>-122.267764</td>\n",
       "      <td>245.0</td>\n",
       "      <td>37.870348</td>\n",
       "      <td>-122.267764</td>\n",
       "      <td>Customer</td>\n",
       "    </tr>\n",
       "    <tr>\n",
       "      <th>3</th>\n",
       "      <td>62172.895</td>\n",
       "      <td>2017-12-31 17:31:10.636</td>\n",
       "      <td>2018-01-01 10:47:23.531</td>\n",
       "      <td>60.0</td>\n",
       "      <td>37.774520</td>\n",
       "      <td>-122.409449</td>\n",
       "      <td>5.0</td>\n",
       "      <td>37.783899</td>\n",
       "      <td>-122.408445</td>\n",
       "      <td>Customer</td>\n",
       "    </tr>\n",
       "    <tr>\n",
       "      <th>4</th>\n",
       "      <td>43603.570</td>\n",
       "      <td>2017-12-31 14:23:14.001</td>\n",
       "      <td>2018-01-01 02:29:57.571</td>\n",
       "      <td>239.0</td>\n",
       "      <td>37.868813</td>\n",
       "      <td>-122.258764</td>\n",
       "      <td>247.0</td>\n",
       "      <td>37.867789</td>\n",
       "      <td>-122.265896</td>\n",
       "      <td>Subscriber</td>\n",
       "    </tr>\n",
       "  </tbody>\n",
       "</table>\n",
       "</div>"
      ],
      "text/plain": [
       "   duration_sec              start_time                end_time  \\\n",
       "0     80110.591 2017-12-31 16:57:39.654 2018-01-01 15:12:50.245   \n",
       "1     78800.775 2017-12-31 15:56:34.842 2018-01-01 13:49:55.617   \n",
       "2     45768.472 2017-12-31 22:45:48.411 2018-01-01 11:28:36.883   \n",
       "3     62172.895 2017-12-31 17:31:10.636 2018-01-01 10:47:23.531   \n",
       "4     43603.570 2017-12-31 14:23:14.001 2018-01-01 02:29:57.571   \n",
       "\n",
       "   start_station_id  start_lat   start_lng  end_station_id    end_lat  \\\n",
       "0              74.0  37.776435 -122.426244            43.0  37.778768   \n",
       "1             284.0  37.784872 -122.400876            96.0  37.766210   \n",
       "2             245.0  37.870348 -122.267764           245.0  37.870348   \n",
       "3              60.0  37.774520 -122.409449             5.0  37.783899   \n",
       "4             239.0  37.868813 -122.258764           247.0  37.867789   \n",
       "\n",
       "      end_lng   user_type  \n",
       "0 -122.415929    Customer  \n",
       "1 -122.426614    Customer  \n",
       "2 -122.267764    Customer  \n",
       "3 -122.408445    Customer  \n",
       "4 -122.265896  Subscriber  "
      ]
     },
     "execution_count": 112,
     "metadata": {
      "tags": []
     },
     "output_type": "execute_result"
    }
   ],
   "source": [
    "bike_df.head()"
   ]
  },
  {
   "cell_type": "code",
   "execution_count": null,
   "metadata": {
    "colab": {
     "base_uri": "https://localhost:8080/",
     "height": 204
    },
    "id": "-FYOKBhrifKZ",
    "outputId": "558135b3-f374-4431-c444-516d6f6669ae"
   },
   "outputs": [
    {
     "data": {
      "text/plain": [
       "duration_sec        429\n",
       "start_time          429\n",
       "end_time            429\n",
       "start_station_id    429\n",
       "start_lat           429\n",
       "start_lng           429\n",
       "end_station_id      429\n",
       "end_lat             429\n",
       "end_lng             429\n",
       "user_type           429\n",
       "dtype: int64"
      ]
     },
     "execution_count": 113,
     "metadata": {
      "tags": []
     },
     "output_type": "execute_result"
    }
   ],
   "source": [
    "bike_df[bike_df.end_time < bike_df.start_time].count()"
   ]
  },
  {
   "cell_type": "code",
   "execution_count": null,
   "metadata": {
    "id": "88OZTe1ajdxa"
   },
   "outputs": [],
   "source": [
    "bike_df.drop(bike_df[bike_df.end_time < bike_df.start_time].index, axis=0, inplace = True)"
   ]
  },
  {
   "cell_type": "code",
   "execution_count": null,
   "metadata": {
    "colab": {
     "base_uri": "https://localhost:8080/",
     "height": 204
    },
    "id": "lapxHOj8mcVa",
    "outputId": "4a3ba0df-1982-4276-f33a-ad205b757a5f"
   },
   "outputs": [
    {
     "data": {
      "text/plain": [
       "duration_sec        5487370\n",
       "start_time          5487370\n",
       "end_time            5487370\n",
       "start_station_id    5487370\n",
       "start_lat           5487370\n",
       "start_lng           5487370\n",
       "end_station_id      5487370\n",
       "end_lat             5487370\n",
       "end_lng             5487370\n",
       "user_type           5487370\n",
       "dtype: int64"
      ]
     },
     "execution_count": 115,
     "metadata": {
      "tags": []
     },
     "output_type": "execute_result"
    }
   ],
   "source": [
    "bike_df.count()"
   ]
  },
  {
   "cell_type": "code",
   "execution_count": null,
   "metadata": {
    "colab": {
     "base_uri": "https://localhost:8080/",
     "height": 204
    },
    "id": "6i1wK8WMmcdI",
    "outputId": "03eb8b29-ab20-4eb9-a863-3f9e56af8776"
   },
   "outputs": [
    {
     "data": {
      "text/plain": [
       "duration_sec        0\n",
       "start_time          0\n",
       "end_time            0\n",
       "start_station_id    0\n",
       "start_lat           0\n",
       "start_lng           0\n",
       "end_station_id      0\n",
       "end_lat             0\n",
       "end_lng             0\n",
       "user_type           0\n",
       "dtype: int64"
      ]
     },
     "execution_count": 116,
     "metadata": {
      "tags": []
     },
     "output_type": "execute_result"
    }
   ],
   "source": [
    "bike_df.isna().sum()"
   ]
  },
  {
   "cell_type": "code",
   "execution_count": null,
   "metadata": {
    "id": "JwgOkIosmctH"
   },
   "outputs": [],
   "source": [
    "bike_df['start_year'] = bike_df.start_time.dt.year\n",
    "bike_df['start_month'] = bike_df.start_time.dt.month\n",
    "bike_df['start_day'] = bike_df.start_time.dt.day\n",
    "bike_df['start_weekday'] = bike_df.start_time.dt.weekday\n",
    "bike_df['end_year'] = bike_df.end_time.dt.year\n",
    "bike_df['end_month'] = bike_df.end_time.dt.month\n",
    "bike_df['end_day'] = bike_df.end_time.dt.day\n",
    "bike_df['end_weekday'] = bike_df.end_time.dt.weekday"
   ]
  },
  {
   "cell_type": "code",
   "execution_count": null,
   "metadata": {
    "colab": {
     "base_uri": "https://localhost:8080/",
     "height": 102
    },
    "id": "nqn1TBnfmc8p",
    "outputId": "222dab20-cd2b-4fec-e82e-ebc94eca4bfc"
   },
   "outputs": [
    {
     "data": {
      "text/plain": [
       "Index(['duration_sec', 'start_time', 'end_time', 'start_station_id',\n",
       "       'start_lat', 'start_lng', 'end_station_id', 'end_lat', 'end_lng',\n",
       "       'user_type', 'start_year', 'start_month', 'start_day', 'start_weekday',\n",
       "       'end_year', 'end_month', 'end_day', 'end_weekday'],\n",
       "      dtype='object')"
      ]
     },
     "execution_count": 118,
     "metadata": {
      "tags": []
     },
     "output_type": "execute_result"
    }
   ],
   "source": [
    "bike_df.columns"
   ]
  },
  {
   "cell_type": "code",
   "execution_count": null,
   "metadata": {
    "colab": {
     "base_uri": "https://localhost:8080/",
     "height": 340
    },
    "id": "THHcKTb8mdEd",
    "outputId": "b202c8bd-3551-4370-e99b-b51b0b095a38"
   },
   "outputs": [
    {
     "data": {
      "text/plain": [
       "duration_sec        71\n",
       "start_time          71\n",
       "end_time            71\n",
       "start_station_id    71\n",
       "start_lat           71\n",
       "start_lng           71\n",
       "end_station_id      71\n",
       "end_lat             71\n",
       "end_lng             71\n",
       "user_type           71\n",
       "start_year          71\n",
       "start_month         71\n",
       "start_day           71\n",
       "start_weekday       71\n",
       "end_year            71\n",
       "end_month           71\n",
       "end_day             71\n",
       "end_weekday         71\n",
       "dtype: int64"
      ]
     },
     "execution_count": 119,
     "metadata": {
      "tags": []
     },
     "output_type": "execute_result"
    }
   ],
   "source": [
    "bike_df[bike_df.start_year != bike_df.end_year].count()"
   ]
  },
  {
   "cell_type": "code",
   "execution_count": null,
   "metadata": {
    "id": "X-pM_C5JmdJe"
   },
   "outputs": [],
   "source": [
    "bike_df.drop('end_year', axis = 1, inplace = True)\n",
    "bike_df.rename(columns = {'start_year' : 'year'}, inplace = True)"
   ]
  },
  {
   "cell_type": "code",
   "execution_count": null,
   "metadata": {
    "colab": {
     "base_uri": "https://localhost:8080/",
     "height": 102
    },
    "id": "0mRijBFZmdYc",
    "outputId": "46c276f1-06f7-4980-9542-7fcbc6722e37"
   },
   "outputs": [
    {
     "data": {
      "text/plain": [
       "Index(['duration_sec', 'start_time', 'end_time', 'start_station_id',\n",
       "       'start_lat', 'start_lng', 'end_station_id', 'end_lat', 'end_lng',\n",
       "       'user_type', 'year', 'start_month', 'start_day', 'start_weekday',\n",
       "       'end_month', 'end_day', 'end_weekday'],\n",
       "      dtype='object')"
      ]
     },
     "execution_count": 121,
     "metadata": {
      "tags": []
     },
     "output_type": "execute_result"
    }
   ],
   "source": [
    "bike_df.columns"
   ]
  },
  {
   "cell_type": "code",
   "execution_count": null,
   "metadata": {
    "id": "oYjm56rEmdhe"
   },
   "outputs": [],
   "source": [
    "bike_df.drop(['start_time', 'end_time'], axis = 1, inplace = True)"
   ]
  },
  {
   "cell_type": "code",
   "execution_count": null,
   "metadata": {
    "colab": {
     "base_uri": "https://localhost:8080/",
     "height": 102
    },
    "id": "9HOffHCtpQ4G",
    "outputId": "8a57c4c8-6669-4d8c-c22f-26401fd5b341"
   },
   "outputs": [
    {
     "data": {
      "text/plain": [
       "Index(['duration_sec', 'start_station_id', 'start_lat', 'start_lng',\n",
       "       'end_station_id', 'end_lat', 'end_lng', 'user_type', 'year',\n",
       "       'start_month', 'start_day', 'start_weekday', 'end_month', 'end_day',\n",
       "       'end_weekday'],\n",
       "      dtype='object')"
      ]
     },
     "execution_count": 123,
     "metadata": {
      "tags": []
     },
     "output_type": "execute_result"
    }
   ],
   "source": [
    "bike_df.columns"
   ]
  },
  {
   "cell_type": "code",
   "execution_count": null,
   "metadata": {
    "id": "dRdcfNBWpQ_m"
   },
   "outputs": [],
   "source": [
    "# Save clean data to a dataframe\n",
    "bike_df.to_csv('../bike_data_clean.csv')"
   ]
  },
  {
   "cell_type": "code",
   "execution_count": null,
   "metadata": {
    "id": "Db1vQvlBpRGz"
   },
   "outputs": [],
   "source": [
    "# zip the dataframe to make it easier for download from drive\n",
    "import bz2, lzma, zlib, zipfile\n",
    "zipfile.ZipFile('/content/drive/My Drive/Datasets/bike_data_clean.zip', mode='w', compression=zipfile.ZIP_LZMA).write('/content/drive/My Drive/Datasets/bike_data_clean.csv')"
   ]
  },
  {
   "cell_type": "code",
   "execution_count": 4,
   "metadata": {
    "id": "iHdaPbEXCBMq"
   },
   "outputs": [],
   "source": [
    "bike_df = pd.read_csv('/content/drive/My Drive/Datasets/bike_data_clean.csv')"
   ]
  },
  {
   "cell_type": "code",
   "execution_count": null,
   "metadata": {
    "colab": {
     "base_uri": "https://localhost:8080/",
     "height": 306
    },
    "id": "8tGSrmwYpRqR",
    "outputId": "7da54f78-12a5-4043-88ac-9adea939a740"
   },
   "outputs": [
    {
     "data": {
      "text/plain": [
       "Unnamed: 0            int64\n",
       "duration_sec        float64\n",
       "start_station_id    float64\n",
       "start_lat           float64\n",
       "start_lng           float64\n",
       "end_station_id      float64\n",
       "end_lat             float64\n",
       "end_lng             float64\n",
       "user_type            object\n",
       "year                  int64\n",
       "start_month           int64\n",
       "start_day             int64\n",
       "start_weekday         int64\n",
       "end_month             int64\n",
       "end_day               int64\n",
       "end_weekday           int64\n",
       "dtype: object"
      ]
     },
     "execution_count": 8,
     "metadata": {
      "tags": []
     },
     "output_type": "execute_result"
    }
   ],
   "source": [
    "bike_df.dtypes"
   ]
  },
  {
   "cell_type": "code",
   "execution_count": null,
   "metadata": {
    "colab": {
     "base_uri": "https://localhost:8080/",
     "height": 34
    },
    "id": "Vy4zA2x7KlFB",
    "outputId": "6b0304bf-1543-4143-e4f6-3b1a81b46017"
   },
   "outputs": [
    {
     "data": {
      "text/plain": [
       "0"
      ]
     },
     "execution_count": 127,
     "metadata": {
      "tags": []
     },
     "output_type": "execute_result"
    }
   ],
   "source": [
    "(bike_df.start_station_id.mod(1) != 0 ).sum()"
   ]
  },
  {
   "cell_type": "code",
   "execution_count": null,
   "metadata": {
    "id": "_0rNWViXpR1D"
   },
   "outputs": [],
   "source": [
    "bike_df['duration_sec'] = bike_df.duration_sec.astype('int64')\n",
    "bike_df['start_station_id'] = bike_df.start_station_id.astype('int64')\n",
    "bike_df['end_station_id'] = bike_df.end_station_id.astype('int64')\n"
   ]
  },
  {
   "cell_type": "code",
   "execution_count": null,
   "metadata": {
    "colab": {
     "base_uri": "https://localhost:8080/",
     "height": 306
    },
    "id": "-RQvhVDNK88x",
    "outputId": "61213f3d-5834-4dd0-ac3c-bc09d83dd0a0"
   },
   "outputs": [
    {
     "data": {
      "text/plain": [
       "Unnamed: 0            int64\n",
       "duration_sec          int64\n",
       "start_station_id      int64\n",
       "start_lat           float64\n",
       "start_lng           float64\n",
       "end_station_id        int64\n",
       "end_lat             float64\n",
       "end_lng             float64\n",
       "user_type            object\n",
       "year                  int64\n",
       "start_month           int64\n",
       "start_day             int64\n",
       "start_weekday         int64\n",
       "end_month             int64\n",
       "end_day               int64\n",
       "end_weekday           int64\n",
       "dtype: object"
      ]
     },
     "execution_count": 10,
     "metadata": {
      "tags": []
     },
     "output_type": "execute_result"
    }
   ],
   "source": [
    "bike_df.dtypes"
   ]
  },
  {
   "cell_type": "code",
   "execution_count": null,
   "metadata": {
    "colab": {
     "base_uri": "https://localhost:8080/",
     "height": 153
    },
    "id": "4RPgvEbHpRTW",
    "outputId": "ac059878-9d3d-4129-cb3b-1ee0b71e8693"
   },
   "outputs": [
    {
     "data": {
      "text/plain": [
       "1    918301\n",
       "3    914112\n",
       "2    911815\n",
       "4    861322\n",
       "0    853342\n",
       "5    543376\n",
       "6    485102\n",
       "Name: end_weekday, dtype: int64"
      ]
     },
     "execution_count": 11,
     "metadata": {
      "tags": []
     },
     "output_type": "execute_result"
    }
   ],
   "source": [
    "bike_df.end_weekday.value_counts()"
   ]
  },
  {
   "cell_type": "code",
   "execution_count": null,
   "metadata": {
    "id": "0BGs3rsB5FiU"
   },
   "outputs": [],
   "source": []
  },
  {
   "cell_type": "code",
   "execution_count": null,
   "metadata": {
    "colab": {
     "base_uri": "https://localhost:8080/",
     "height": 318
    },
    "id": "PjmRLuQM5FuN",
    "outputId": "fc9ac3ee-04ff-463f-cb51-d78e29754eb4"
   },
   "outputs": [
    {
     "data": {
      "text/plain": [
       "Unnamed: 0          5487370\n",
       "duration_sec        5487370\n",
       "start_station_id    5487370\n",
       "start_lat           5487370\n",
       "start_lng           5487370\n",
       "end_station_id      5487370\n",
       "end_lat             5487370\n",
       "end_lng             5487370\n",
       "user_type           5487370\n",
       "year                5487370\n",
       "start_month         5487370\n",
       "start_day           5487370\n",
       "start_weekday       5487370\n",
       "end_month           5487370\n",
       "end_day             5487370\n",
       "end_weekday         5487370\n",
       "dtype: int64"
      ]
     },
     "execution_count": 12,
     "metadata": {
      "tags": []
     },
     "output_type": "execute_result"
    }
   ],
   "source": [
    "bike_df.count()"
   ]
  },
  {
   "cell_type": "markdown",
   "metadata": {
    "id": "qrCPnndb5F9n"
   },
   "source": [
    "# Some questions to start with\n",
    "\n",
    "* Is there a relationship between month, day of week, day of month and number of users or their rental duration?\n",
    "\n",
    "* Are some stations popular as start stations or end stations?\n",
    "\n",
    "* Is there a relationship between user type and rental duration?\n",
    "\n",
    "* Are some locations have more rental start or end density than others?\n",
    "\n",
    "* What are the usage differences between customers and subscribers"
   ]
  },
  {
   "cell_type": "markdown",
   "metadata": {
    "id": "RtJq1CkFWEs5"
   },
   "source": [
    "---\n",
    "# **Visualizations**\n",
    "\n",
    "---\n",
    "\n",
    "\n",
    "\n"
   ]
  },
  {
   "cell_type": "code",
   "execution_count": 23,
   "metadata": {
    "id": "VwnZbPv9WBw_"
   },
   "outputs": [],
   "source": [
    "bc = sns.color_palette()[0]"
   ]
  },
  {
   "cell_type": "code",
   "execution_count": null,
   "metadata": {
    "colab": {
     "base_uri": "https://localhost:8080/",
     "height": 297
    },
    "id": "u2Hc4JqppRP5",
    "outputId": "ebf3b432-1740-49c1-a7a1-3270e7e646a6"
   },
   "outputs": [
    {
     "data": {
      "text/plain": [
       "<matplotlib.axes._subplots.AxesSubplot at 0x7f85a6c3c4a8>"
      ]
     },
     "execution_count": 15,
     "metadata": {
      "tags": []
     },
     "output_type": "execute_result"
    },
    {
     "data": {
      "image/png": "[encoded data removed]",
      "text/plain": [
       "<Figure size 432x288 with 1 Axes>"
      ]
     },
     "metadata": {
      "needs_background": "light",
      "tags": []
     },
     "output_type": "display_data"
    }
   ],
   "source": [
    "sns.countplot(data = bike_df, x = bike_df.start_month, color = bc)"
   ]
  },
  {
   "cell_type": "code",
   "execution_count": null,
   "metadata": {
    "colab": {
     "base_uri": "https://localhost:8080/",
     "height": 297
    },
    "id": "eurFKrOHWB_R",
    "outputId": "34854d1a-281b-46a6-d05f-c6e01b5f78ed"
   },
   "outputs": [
    {
     "data": {
      "text/plain": [
       "<matplotlib.axes._subplots.AxesSubplot at 0x7f85a6b236a0>"
      ]
     },
     "execution_count": 16,
     "metadata": {
      "tags": []
     },
     "output_type": "execute_result"
    },
    {
     "data": {
      "image/png": "[encoded data removed]",
      "text/plain": [
       "<Figure size 432x288 with 1 Axes>"
      ]
     },
     "metadata": {
      "needs_background": "light",
      "tags": []
     },
     "output_type": "display_data"
    }
   ],
   "source": [
    "sns.countplot(data = bike_df, x = bike_df.end_month, color = bc)"
   ]
  },
  {
   "cell_type": "markdown",
   "metadata": {},
   "source": [
    "We notice a slightly high rent count in July and September and a little higher counts in August and October"
   ]
  },
  {
   "cell_type": "code",
   "execution_count": null,
   "metadata": {
    "colab": {
     "base_uri": "https://localhost:8080/",
     "height": 297
    },
    "id": "heR9e0TJWCFW",
    "outputId": "f0060b3c-8c52-477c-b782-cbcf9f44f856"
   },
   "outputs": [
    {
     "data": {
      "text/plain": [
       "<matplotlib.axes._subplots.AxesSubplot at 0x7f85a66697b8>"
      ]
     },
     "execution_count": 17,
     "metadata": {
      "tags": []
     },
     "output_type": "execute_result"
    },
    {
     "data": {
      "image/png": "[encoded data removed]",
      "text/plain": [
       "<Figure size 432x288 with 1 Axes>"
      ]
     },
     "metadata": {
      "needs_background": "light",
      "tags": []
     },
     "output_type": "display_data"
    }
   ],
   "source": [
    "sns.countplot(data = bike_df, x = bike_df.start_day , color = bc)"
   ]
  },
  {
   "cell_type": "markdown",
   "metadata": {},
   "source": [
    "We notice that there's no significant variation in the counts of every day in the month except 31th but it's only less frequent day in months"
   ]
  },
  {
   "cell_type": "code",
   "execution_count": null,
   "metadata": {
    "colab": {
     "base_uri": "https://localhost:8080/",
     "height": 230
    },
    "id": "kbaBIkFxNYO4",
    "outputId": "62e2c8a4-c127-459f-b375-460fa0ee9d83"
   },
   "outputs": [
    {
     "data": {
      "text/plain": [
       "0               NaN\n",
       "1          0.000186\n",
       "2          0.000183\n",
       "3          0.000172\n",
       "4          0.000172\n",
       "             ...   \n",
       "5487365         NaN\n",
       "5487366         NaN\n",
       "5487367         NaN\n",
       "5487368         NaN\n",
       "5487369         NaN\n",
       "Name: start_day, Length: 5487370, dtype: float64"
      ]
     },
     "execution_count": 20,
     "metadata": {
      "tags": []
     },
     "output_type": "execute_result"
    }
   ],
   "source": [
    "bike_df.start_day / bike_df.start_day.value_counts()"
   ]
  },
  {
   "cell_type": "code",
   "execution_count": null,
   "metadata": {
    "colab": {
     "base_uri": "https://localhost:8080/",
     "height": 297
    },
    "id": "v8yHm-acQ-qP",
    "outputId": "7d5912f4-92b2-4601-8570-38937cc4f779"
   },
   "outputs": [],
   "source": [
    "sns.countplot(data = bike_df, x = bike_df.start_weekday, color = bc)"
   ]
  },
  {
   "cell_type": "code",
   "execution_count": null,
   "metadata": {
    "colab": {
     "base_uri": "https://localhost:8080/",
     "height": 297
    },
    "id": "z0QwRrTFQ-yi",
    "outputId": "d7302a99-4859-48db-fae3-9fd3d09f2f0a"
   },
   "outputs": [
    {
     "data": {
      "text/plain": [
       "<matplotlib.axes._subplots.AxesSubplot at 0x7fa5e7ec2438>"
      ]
     },
     "execution_count": 134,
     "metadata": {
      "tags": []
     },
     "output_type": "execute_result"
    },
    {
     "data": {
      "image/png": "[encoded data removed]",
      "text/plain": [
       "<Figure size 432x288 with 1 Axes>"
      ]
     },
     "metadata": {
      "needs_background": "light",
      "tags": []
     },
     "output_type": "display_data"
    }
   ],
   "source": [
    "sns.countplot(data = bike_df, x = bike_df.end_weekday, color = bc)"
   ]
  },
  {
   "cell_type": "markdown",
   "metadata": {},
   "source": [
    "**We notice that Saturday and Sunday have significantly less rent counts**\n",
    "\n",
    "Start day and end day are almost the same as the duration in most of the data is less than an hour"
   ]
  },
  {
   "cell_type": "code",
   "execution_count": null,
   "metadata": {
    "colab": {
     "base_uri": "https://localhost:8080/",
     "height": 34
    },
    "id": "DjomFUNkmdnA",
    "outputId": "b0a9e9bf-e88e-48bc-a355-e6eb288c6fe5"
   },
   "outputs": [
    {
     "data": {
      "text/plain": [
       "378"
      ]
     },
     "execution_count": 14,
     "metadata": {
      "tags": []
     },
     "output_type": "execute_result"
    }
   ],
   "source": [
    "bike_df['duration_sec'].mode()[0]"
   ]
  },
  {
   "cell_type": "code",
   "execution_count": null,
   "metadata": {
    "colab": {
     "base_uri": "https://localhost:8080/",
     "height": 414
    },
    "id": "k2S15GLd0n_h",
    "outputId": "9859ed5c-1ea6-4b94-b41b-d4630457a01f"
   },
   "outputs": [],
   "source": [
    "plt.boxplot(x = bike_df.duration_sec, vert=False)"
   ]
  },
  {
   "cell_type": "markdown",
   "metadata": {},
   "source": [
    "Oops, sounds like there is a large range of outliers so let's find the range where most of the data is"
   ]
  },
  {
   "cell_type": "code",
   "execution_count": null,
   "metadata": {
    "colab": {
     "base_uri": "https://localhost:8080/",
     "height": 170
    },
    "id": "ieAtpfksmcmm",
    "outputId": "120019f0-6568-4b55-df98-87be5e24f5d2"
   },
   "outputs": [
    {
     "data": {
      "text/plain": [
       "count    5.487370e+06\n",
       "mean     9.292299e+02\n",
       "std      7.869434e+03\n",
       "min      0.000000e+00\n",
       "25%      3.610000e+02\n",
       "50%      5.780000e+02\n",
       "75%      9.110000e+02\n",
       "max      3.283732e+06\n",
       "Name: duration_sec, dtype: float64"
      ]
     },
     "execution_count": 138,
     "metadata": {
      "tags": []
     },
     "output_type": "execute_result"
    }
   ],
   "source": [
    "bike_df.duration_sec.describe()"
   ]
  },
  {
   "cell_type": "code",
   "execution_count": null,
   "metadata": {
    "colab": {
     "base_uri": "https://localhost:8080/",
     "height": 265
    },
    "id": "4hFTjUqgmcrK",
    "outputId": "8a135364-69a3-4eb4-c0c4-65c6b3af25a9"
   },
   "outputs": [
    {
     "data": {
      "image/png": "[encoded data removed]",
      "text/plain": [
       "<Figure size 432x288 with 1 Axes>"
      ]
     },
     "metadata": {
      "needs_background": "light",
      "tags": []
     },
     "output_type": "display_data"
    }
   ],
   "source": [
    "bins = np.arange(0, bike_df.duration_sec.max() + 10, 100)[0:101]\n",
    "plt.hist(data = bike_df, x = 'duration_sec', bins = bins);"
   ]
  },
  {
   "cell_type": "markdown",
   "metadata": {},
   "source": [
    "As we see most of the data have duration less than 2000 seconds, to cover a bigger range let's use rows with duration 0:6000"
   ]
  },
  {
   "cell_type": "code",
   "execution_count": null,
   "metadata": {
    "colab": {
     "base_uri": "https://localhost:8080/",
     "height": 34
    },
    "id": "a1dg3UD3mchF",
    "outputId": "ba35ae3d-ddb0-49a1-e232-3201671d3bf3",
    "scrolled": true
   },
   "outputs": [
    {
     "data": {
      "text/plain": [
       "(5437217, 50153)"
      ]
     },
     "execution_count": 141,
     "metadata": {
      "tags": []
     },
     "output_type": "execute_result"
    }
   ],
   "source": [
    "bike_df.shape[0] - (bike_df.duration_sec > 6000).sum(), (bike_df.duration_sec > 6000).sum()"
   ]
  },
  {
   "cell_type": "code",
   "execution_count": null,
   "metadata": {
    "colab": {
     "base_uri": "https://localhost:8080/",
     "height": 297
    },
    "id": "yTgzXe8ZyhuV",
    "outputId": "cc8f7bbd-99e9-4b66-bb9d-004bf0bb3b50"
   },
   "outputs": [
    {
     "data": {
      "text/plain": [
       "<matplotlib.axes._subplots.AxesSubplot at 0x7fa5de3f9c88>"
      ]
     },
     "execution_count": 139,
     "metadata": {
      "tags": []
     },
     "output_type": "execute_result"
    },
    {
     "data": {
      "image/png": "[encoded data removed]",
      "text/plain": [
       "<Figure size 432x288 with 1 Axes>"
      ]
     },
     "metadata": {
      "needs_background": "light",
      "tags": []
     },
     "output_type": "display_data"
    }
   ],
   "source": [
    "sns.boxplot(x = bike_df.duration_sec[bike_df.duration_sec < 6000], color = bc)"
   ]
  },
  {
   "cell_type": "code",
   "execution_count": null,
   "metadata": {
    "colab": {
     "base_uri": "https://localhost:8080/",
     "height": 297
    },
    "id": "KNAK6SpTmcj1",
    "outputId": "fc04a762-093e-45c5-8b4b-1037748a4b33"
   },
   "outputs": [
    {
     "data": {
      "text/plain": [
       "<matplotlib.axes._subplots.AxesSubplot at 0x7fa5de365978>"
      ]
     },
     "execution_count": 140,
     "metadata": {
      "tags": []
     },
     "output_type": "execute_result"
    },
    {
     "data": {
      "image/png": "[encoded data removed]",
      "text/plain": [
       "<Figure size 432x288 with 1 Axes>"
      ]
     },
     "metadata": {
      "needs_background": "light",
      "tags": []
     },
     "output_type": "display_data"
    }
   ],
   "source": [
    "sns.violinplot(x = bike_df.duration_sec[bike_df.duration_sec < 6000], color = bc)"
   ]
  },
  {
   "cell_type": "markdown",
   "metadata": {},
   "source": [
    "**We notice that most of rent durations are less than 34 minutes and most of them are between 0 and 16 minutes. And the mode is about 5 to 6 minutes**"
   ]
  },
  {
   "cell_type": "code",
   "execution_count": null,
   "metadata": {
    "colab": {
     "base_uri": "https://localhost:8080/",
     "height": 176
    },
    "id": "wfHGYy_BRAl8",
    "outputId": "f81565c9-13f3-43ad-f04c-547b4ef3b6f6"
   },
   "outputs": [
    {
     "data": {
      "text/plain": [
       "count    5.487370e+06\n",
       "mean     3.776978e+01\n",
       "std      9.933019e-02\n",
       "min      0.000000e+00\n",
       "25%      3.777041e+01\n",
       "50%      3.778095e+01\n",
       "75%      3.779539e+01\n",
       "max      4.551000e+01\n",
       "Name: start_lat, dtype: float64"
      ]
     },
     "execution_count": 75,
     "metadata": {
      "tags": []
     },
     "output_type": "execute_result"
    }
   ],
   "source": [
    "bike_df.start_lat.describe()"
   ]
  },
  {
   "cell_type": "code",
   "execution_count": null,
   "metadata": {
    "colab": {
     "base_uri": "https://localhost:8080/",
     "height": 176
    },
    "id": "_r6GXmywYv_1",
    "outputId": "60fa0e2d-1a8d-46ce-e276-480e7f3d6046"
   },
   "outputs": [
    {
     "data": {
      "text/plain": [
       "count    5.487370e+06\n",
       "mean    -1.223564e+02\n",
       "std      1.369709e-01\n",
       "min     -1.225091e+02\n",
       "25%     -1.224133e+02\n",
       "50%     -1.223985e+02\n",
       "75%     -1.223768e+02\n",
       "max      0.000000e+00\n",
       "Name: start_lng, dtype: float64"
      ]
     },
     "execution_count": 99,
     "metadata": {
      "tags": []
     },
     "output_type": "execute_result"
    }
   ],
   "source": [
    "bike_df.start_lng.describe()"
   ]
  },
  {
   "cell_type": "code",
   "execution_count": null,
   "metadata": {
    "colab": {
     "base_uri": "https://localhost:8080/",
     "height": 34
    },
    "id": "Ul11QSlNWPYQ",
    "outputId": "98e315ec-9dac-429f-c05f-2f84b7ff449b"
   },
   "outputs": [
    {
     "data": {
      "text/plain": [
       "37.7953929373"
      ]
     },
     "execution_count": 78,
     "metadata": {
      "tags": []
     },
     "output_type": "execute_result"
    }
   ],
   "source": [
    "bike_df.start_lat.quantile(.75)"
   ]
  },
  {
   "cell_type": "code",
   "execution_count": null,
   "metadata": {
    "colab": {
     "base_uri": "https://localhost:8080/",
     "height": 264
    },
    "id": "V0WHJvdnuMEB",
    "outputId": "537f2b8f-d349-4b26-9bea-5c17838f35fe"
   },
   "outputs": [
    {
     "data": {
      "image/png": "[encoded data removed]",
      "text/plain": [
       "<Figure size 432x288 with 1 Axes>"
      ]
     },
     "metadata": {
      "needs_background": "light",
      "tags": []
     },
     "output_type": "display_data"
    }
   ],
   "source": [
    "bins = np.arange(bike_df.start_lat.quantile(.05), bike_df.start_lat.quantile(.9), (bike_df.start_lat.quantile(.9) - bike_df.start_lat.quantile(.05)) / 20);\n",
    "plt.hist(data = bike_df, x = 'start_lat', bins = bins);"
   ]
  },
  {
   "cell_type": "code",
   "execution_count": null,
   "metadata": {
    "colab": {
     "base_uri": "https://localhost:8080/",
     "height": 357
    },
    "id": "CTIKQ6dzYYqD",
    "outputId": "8dd3da85-ea62-42f5-9923-76dd840fccec"
   },
   "outputs": [
    {
     "data": {
      "text/plain": [
       "(array([-122.43 , -122.425, -122.42 , -122.415, -122.41 , -122.405,\n",
       "        -122.4  , -122.395, -122.39 ]),\n",
       " <a list of 9 Text major ticklabel objects>)"
      ]
     },
     "execution_count": 108,
     "metadata": {
      "tags": []
     },
     "output_type": "execute_result"
    },
    {
     "data": {
      "image/png": "[encoded data removed]",
      "text/plain": [
       "<Figure size 432x288 with 1 Axes>"
      ]
     },
     "metadata": {
      "needs_background": "light",
      "tags": []
     },
     "output_type": "display_data"
    }
   ],
   "source": [
    "bins = np.arange(bike_df.start_lng.quantile(.1), bike_df.start_lng.quantile(.7), (bike_df.start_lng.quantile(.7) - bike_df.start_lng.quantile(.1)) / 12);\n",
    "plt.hist(data = bike_df, x = 'start_lng', bins = bins);\n",
    "plt.xticks(rotation='vertical')"
   ]
  },
  {
   "cell_type": "code",
   "execution_count": null,
   "metadata": {
    "id": "a90g3d0PWsyu"
   },
   "outputs": [],
   "source": [
    "start_lat_mean = bike_df.start_lat.mean()\n",
    "start_lat_std = bike_df.start_lat.std()\n",
    "bins = np.arange(start_lat_mean - 1.5 * start_lat_std,start_lat_mean + 1.5 * start_lat_std, start_lat_std / 20 );\n",
    "plt.hist(data = bike_df, x = 'start_lat', bins = bins);"
   ]
  },
  {
   "cell_type": "code",
   "execution_count": null,
   "metadata": {
    "colab": {
     "base_uri": "https://localhost:8080/",
     "height": 264
    },
    "id": "MJe4i6pcUmEn",
    "outputId": "1fbd1b2c-9909-4023-d414-b568bc4a2db3"
   },
   "outputs": [
    {
     "data": {
      "image/png": "[encoded data removed]",
      "text/plain": [
       "<Figure size 432x288 with 1 Axes>"
      ]
     },
     "metadata": {
      "needs_background": "light",
      "tags": []
     },
     "output_type": "display_data"
    }
   ],
   "source": [
    "start_lat_mean = bike_df.start_lat.mean()\n",
    "start_lat_std = bike_df.start_lat.std()\n",
    "bins = np.arange(bike_df.start_lat.describe()['25%'], bike_df.start_lat.describe()['75%'], (bike_df.start_lat.describe()['75%'] - bike_df.start_lat.describe()['25%'])/ 10 );\n",
    "plt.hist(data = bike_df, x = 'start_lat', bins = bins);"
   ]
  },
  {
   "cell_type": "code",
   "execution_count": 22,
   "metadata": {
    "id": "rtUjQO_cuL1O"
   },
   "outputs": [],
   "source": [
    "lat_red = bike_df.start_lat.quantile(0.1), bike_df.start_lat.quantile(0.9)\n",
    "lng_red = bike_df.start_lng.quantile(0.1), bike_df.start_lng.quantile(0.9)"
   ]
  },
  {
   "cell_type": "code",
   "execution_count": 23,
   "metadata": {
    "id": "B3MAG8_SuL3h"
   },
   "outputs": [],
   "source": [
    "bike_df_red = bike_df[(bike_df.start_lat > lat_red[0]) & (bike_df.start_lng > lng_red[0] ) & (bike_df.start_lat < lat_red[1]) & (bike_df.start_lng < lng_red[1] )  ]"
   ]
  },
  {
   "cell_type": "code",
   "execution_count": 81,
   "metadata": {
    "colab": {
     "base_uri": "https://localhost:8080/",
     "height": 284
    },
    "id": "q3re75sbFrWg",
    "outputId": "9d764844-2ef2-4ff6-b3b9-1145dce6a979"
   },
   "outputs": [
    {
     "data": {
      "text/plain": [
       "<matplotlib.colorbar.Colorbar at 0x7f2938388470>"
      ]
     },
     "execution_count": 81,
     "metadata": {
      "tags": []
     },
     "output_type": "execute_result"
    },
    {
     "data": {
      "image/png": "[encoded data removed]",
      "text/plain": [
       "<Figure size 432x288 with 2 Axes>"
      ]
     },
     "metadata": {
      "needs_background": "light",
      "tags": []
     },
     "output_type": "display_data"
    }
   ],
   "source": [
    "# plt.figure(figsize = (10,10))\n",
    "plt.hist2d(data = bike_df_red, x = 'start_lat', y = 'start_lng');\n",
    "plt.colorbar()"
   ]
  },
  {
   "cell_type": "markdown",
   "metadata": {},
   "source": [
    "**We notice high density in a specific region. Let's have a closer look.**"
   ]
  },
  {
   "cell_type": "code",
   "execution_count": 87,
   "metadata": {
    "colab": {
     "base_uri": "https://localhost:8080/",
     "height": 316
    },
    "id": "_09lnp5HGqb3",
    "outputId": "93bfe7a3-83fc-4cb8-9a52-060f2557b588",
    "scrolled": true
   },
   "outputs": [
    {
     "name": "stderr",
     "output_type": "stream",
     "text": [
      "/usr/local/lib/python3.6/dist-packages/ipykernel_launcher.py:1: UserWarning: Boolean Series key will be reindexed to match DataFrame index.\n",
      "  \"\"\"Entry point for launching an IPython kernel.\n"
     ]
    },
    {
     "data": {
      "text/plain": [
       "<matplotlib.colorbar.Colorbar at 0x7f29401a4e80>"
      ]
     },
     "execution_count": 87,
     "metadata": {
      "tags": []
     },
     "output_type": "execute_result"
    },
    {
     "data": {
      "image/png": "[encoded data removed]",
      "text/plain": [
       "<Figure size 432x288 with 2 Axes>"
      ]
     },
     "metadata": {
      "needs_background": "light",
      "tags": []
     },
     "output_type": "display_data"
    }
   ],
   "source": [
    "plt.hist2d(data = bike_df_red[bike_df.start_lng.between(-122.42, -122.38)], x = 'start_lat', y = 'start_lng');\n",
    "plt.colorbar()\n",
    "# bike_df.start_lng.between(-122.42, -122.38)"
   ]
  },
  {
   "cell_type": "markdown",
   "metadata": {},
   "source": [
    "**A little closer**"
   ]
  },
  {
   "cell_type": "code",
   "execution_count": 96,
   "metadata": {
    "colab": {
     "base_uri": "https://localhost:8080/",
     "height": 320
    },
    "id": "0hbngF2nHLtX",
    "outputId": "e52573e1-6cf2-41fe-d3d6-b342fe510069"
   },
   "outputs": [
    {
     "name": "stderr",
     "output_type": "stream",
     "text": [
      "/usr/local/lib/python3.6/dist-packages/ipykernel_launcher.py:1: UserWarning: Boolean Series key will be reindexed to match DataFrame index.\n",
      "  \"\"\"Entry point for launching an IPython kernel.\n"
     ]
    },
    {
     "data": {
      "text/plain": [
       "<matplotlib.colorbar.Colorbar at 0x7f293eaa50b8>"
      ]
     },
     "execution_count": 96,
     "metadata": {
      "tags": []
     },
     "output_type": "execute_result"
    },
    {
     "data": {
      "image/png": "[encoded data removed]",
      "text/plain": [
       "<Figure size 432x288 with 2 Axes>"
      ]
     },
     "metadata": {
      "needs_background": "light",
      "tags": []
     },
     "output_type": "display_data"
    }
   ],
   "source": [
    "plt.hist2d(data = bike_df_red[bike_df.start_lng.between(-122.405, -122.390)], x = 'start_lat', y = 'start_lng');\n",
    "plt.colorbar()\n",
    "# bike_df.start_lng.between(-122.400, -122.390)"
   ]
  },
  {
   "cell_type": "markdown",
   "metadata": {},
   "source": [
    "**We notice two areas with highest density**"
   ]
  },
  {
   "cell_type": "code",
   "execution_count": 27,
   "metadata": {
    "colab": {
     "base_uri": "https://localhost:8080/",
     "height": 609
    },
    "id": "yd97P5ayuMCB",
    "outputId": "0aad66bf-955d-41bc-f2dd-c80ecff5d55e"
   },
   "outputs": [
    {
     "data": {
      "text/plain": [
       "<matplotlib.collections.PathCollection at 0x7f2945c34c88>"
      ]
     },
     "execution_count": 27,
     "metadata": {
      "tags": []
     },
     "output_type": "execute_result"
    },
    {
     "data": {
      "image/png": "[encoded data removed]",
      "text/plain": [
       "<Figure size 720x720 with 1 Axes>"
      ]
     },
     "metadata": {
      "needs_background": "light",
      "tags": []
     },
     "output_type": "display_data"
    }
   ],
   "source": [
    "plt.figure(figsize = (10,10))\n",
    "plt.scatter(data = bike_df_red, x = 'start_lng', y = 'start_lat')"
   ]
  },
  {
   "cell_type": "code",
   "execution_count": 38,
   "metadata": {
    "colab": {
     "base_uri": "https://localhost:8080/",
     "height": 623
    },
    "id": "PW5v2PdKe3xP",
    "outputId": "7678337b-c89b-4bc0-a265-f0a35e6eeda3"
   },
   "outputs": [
    {
     "data": {
      "text/plain": [
       "<matplotlib.axes._subplots.AxesSubplot at 0x7f2944255dd8>"
      ]
     },
     "execution_count": 38,
     "metadata": {
      "tags": []
     },
     "output_type": "execute_result"
    },
    {
     "data": {
      "image/png": "[encoded data removed]",
      "text/plain": [
       "<Figure size 720x720 with 1 Axes>"
      ]
     },
     "metadata": {
      "needs_background": "light",
      "tags": []
     },
     "output_type": "display_data"
    }
   ],
   "source": [
    "plt.figure(figsize = (10,10))\n",
    "sns.regplot(data = bike_df_red, x = 'start_lng', y = 'start_lat', fit_reg= False, x_jitter = 0.0005, y_jitter = 0.0005, scatter_kws = {'alpha': 0.001})"
   ]
  },
  {
   "cell_type": "markdown",
   "metadata": {},
   "source": [
    "We see that rentals are concentrated in two areas but it looks more informative in the previous heatmap"
   ]
  },
  {
   "cell_type": "code",
   "execution_count": null,
   "metadata": {},
   "outputs": [],
   "source": [
    "sns.scatterplot(data= bike_df_red, x = 'start_lng', y = 'start_lat', hue = 'user_type')"
   ]
  },
  {
   "cell_type": "markdown",
   "metadata": {},
   "source": [
    "This shows us the dominant user type across locations but it doesn't seem to have a significant observation"
   ]
  },
  {
   "cell_type": "code",
   "execution_count": 12,
   "metadata": {
    "colab": {
     "base_uri": "https://localhost:8080/",
     "height": 34
    },
    "id": "8qFcIuUeuMAN",
    "outputId": "1666b262-c7b7-40ff-a5a8-4e6ab48ad5d5"
   },
   "outputs": [
    {
     "data": {
      "text/plain": [
       "(5484229, 16)"
      ]
     },
     "execution_count": 12,
     "metadata": {
      "tags": []
     },
     "output_type": "execute_result"
    }
   ],
   "source": [
    "bike_df[bike_df.start_lat > 37.32 ].shape"
   ]
  },
  {
   "cell_type": "code",
   "execution_count": 13,
   "metadata": {
    "colab": {
     "base_uri": "https://localhost:8080/",
     "height": 34
    },
    "id": "YEP3PZK2uL-L",
    "outputId": "0b1c7837-91f7-40b4-ad98-16acf1a8c518"
   },
   "outputs": [
    {
     "data": {
      "text/plain": [
       "(5487370, 16)"
      ]
     },
     "execution_count": 13,
     "metadata": {
      "tags": []
     },
     "output_type": "execute_result"
    }
   ],
   "source": [
    "bike_df.shape"
   ]
  },
  {
   "cell_type": "code",
   "execution_count": 21,
   "metadata": {
    "colab": {
     "base_uri": "https://localhost:8080/",
     "height": 170
    },
    "id": "UhLU-hkpuLzu",
    "outputId": "ef01c9a6-86d1-4d7e-d2f7-04c471dcae08"
   },
   "outputs": [
    {
     "data": {
      "text/plain": [
       "count    5.487370e+06\n",
       "mean     3.776978e+01\n",
       "std      9.933019e-02\n",
       "min      0.000000e+00\n",
       "25%      3.777041e+01\n",
       "50%      3.778095e+01\n",
       "75%      3.779539e+01\n",
       "max      4.551000e+01\n",
       "Name: start_lat, dtype: float64"
      ]
     },
     "execution_count": 21,
     "metadata": {
      "tags": []
     },
     "output_type": "execute_result"
    }
   ],
   "source": [
    "bike_df.start_lat.describe()"
   ]
  },
  {
   "cell_type": "code",
   "execution_count": 49,
   "metadata": {
    "colab": {
     "base_uri": "https://localhost:8080/",
     "height": 221
    },
    "id": "wY0kntjBuLx8",
    "outputId": "ba1ee5a9-a5d4-488c-daf0-1f41e2f3df4b"
   },
   "outputs": [
    {
     "data": {
      "text/plain": [
       "58.0     102787\n",
       "15.0      98761\n",
       "30.0      95982\n",
       "81.0      95100\n",
       "67.0      85941\n",
       "          ...  \n",
       "428.0         3\n",
       "484.0         2\n",
       "449.0         1\n",
       "65.0          1\n",
       "420.0         1\n",
       "Name: start_station_id, Length: 480, dtype: int64"
      ]
     },
     "execution_count": 49,
     "metadata": {
      "tags": []
     },
     "output_type": "execute_result"
    }
   ],
   "source": [
    "bike_df.start_station_id.value_counts()"
   ]
  },
  {
   "cell_type": "code",
   "execution_count": 56,
   "metadata": {
    "colab": {
     "base_uri": "https://localhost:8080/",
     "height": 263
    },
    "id": "Y4LGf3lw-tKz",
    "outputId": "6eadc02a-f686-45c9-b4b0-be5dc5f983e5"
   },
   "outputs": [
    {
     "data": {
      "image/png": "[encoded data removed]",
      "text/plain": [
       "<Figure size 432x288 with 1 Axes>"
      ]
     },
     "metadata": {
      "needs_background": "light",
      "tags": []
     },
     "output_type": "display_data"
    }
   ],
   "source": [
    "p = sns.countplot(x = bike_df.start_station_id, color = bc, order = bike_df.start_station_id.value_counts().index );\n",
    "p.set(xticks = []);"
   ]
  },
  {
   "cell_type": "markdown",
   "metadata": {},
   "source": [
    "**We notice that a significant number of stations have very low number of rentals**"
   ]
  },
  {
   "cell_type": "code",
   "execution_count": 69,
   "metadata": {
    "colab": {
     "base_uri": "https://localhost:8080/",
     "height": 34
    },
    "id": "5LWdQjPy-tdd",
    "outputId": "81c664b8-f0d5-4017-b6da-8f81ee158699"
   },
   "outputs": [
    {
     "data": {
      "text/plain": [
       "Float64Index([1.0], dtype='float64')"
      ]
     },
     "execution_count": 69,
     "metadata": {
      "tags": []
     },
     "output_type": "execute_result"
    }
   ],
   "source": [
    "start_counts = bike_df.start_station_id.value_counts()\n",
    "start_counts[(start_counts < (start_counts.quantile(0.25) + 5)) & (start_counts > (start_counts.quantile(0.25) - 5))].index / (bike)"
   ]
  },
  {
   "cell_type": "code",
   "execution_count": 71,
   "metadata": {
    "colab": {
     "base_uri": "https://localhost:8080/",
     "height": 34
    },
    "id": "UQi8ZCl8Df4J",
    "outputId": "698914b9-d9c3-4d5e-ef07-57f27ba38024"
   },
   "outputs": [
    {
     "data": {
      "text/plain": [
       "1373.5"
      ]
     },
     "execution_count": 71,
     "metadata": {
      "tags": []
     },
     "output_type": "execute_result"
    }
   ],
   "source": [
    "start_counts.quantile(0.25)"
   ]
  },
  {
   "cell_type": "code",
   "execution_count": 54,
   "metadata": {
    "colab": {
     "base_uri": "https://localhost:8080/",
     "height": 170
    },
    "id": "u1PBVw9p-t5a",
    "outputId": "f7d63dac-12d2-420d-909b-a1910c11e5cd"
   },
   "outputs": [
    {
     "data": {
      "text/plain": [
       "count       480.000000\n",
       "mean      11432.020833\n",
       "std       15804.500178\n",
       "min           1.000000\n",
       "25%        1373.500000\n",
       "50%        5630.500000\n",
       "75%       16023.250000\n",
       "max      102787.000000\n",
       "Name: start_station_id, dtype: float64"
      ]
     },
     "execution_count": 54,
     "metadata": {
      "tags": []
     },
     "output_type": "execute_result"
    }
   ],
   "source": [
    "bike_df.start_station_id.value_counts().describe()"
   ]
  },
  {
   "cell_type": "code",
   "execution_count": null,
   "metadata": {
    "id": "xp4-J2A--tra"
   },
   "outputs": [],
   "source": [
    "# bike_stats = ['start_weekday', 'end_lat', 'start_lng', 'end_lng']\n",
    "g = sns.PairGrid(data = bike_df)\n",
    "g.map_lower(plt.scatter)\n",
    "g.map_diag(plt.hist)\n",
    "g.map_upper(sns.boxplot)"
   ]
  },
  {
   "cell_type": "code",
   "execution_count": 97,
   "metadata": {
    "colab": {
     "base_uri": "https://localhost:8080/",
     "height": 102
    },
    "id": "6ehY8pIP-toy",
    "outputId": "020bf28a-610a-49a4-c910-c422766e234a"
   },
   "outputs": [
    {
     "data": {
      "text/plain": [
       "Index(['Unnamed: 0', 'duration_sec', 'start_station_id', 'start_lat',\n",
       "       'start_lng', 'end_station_id', 'end_lat', 'end_lng', 'user_type',\n",
       "       'year', 'start_month', 'start_day', 'start_weekday', 'end_month',\n",
       "       'end_day', 'end_weekday'],\n",
       "      dtype='object')"
      ]
     },
     "execution_count": 97,
     "metadata": {
      "tags": []
     },
     "output_type": "execute_result"
    }
   ],
   "source": [
    "bike_df.columns"
   ]
  },
  {
   "cell_type": "code",
   "execution_count": 13,
   "metadata": {
    "colab": {
     "base_uri": "https://localhost:8080/",
     "height": 734
    },
    "id": "PCyI-Oxw-tiV",
    "outputId": "3db34083-e80e-4c56-f701-f3e1ca798d31"
   },
   "outputs": [
    {
     "data": {
      "image/png": "[encoded data removed]",
      "text/plain": [
       "<Figure size 1320x770 with 1 Axes>"
      ]
     },
     "metadata": {
      "needs_background": "light",
      "tags": []
     },
     "output_type": "display_data"
    }
   ],
   "source": [
    "fig, ax = plt.subplots(figsize = (12,7), dpi = 110)\n",
    "sns.boxplot(x = \"start_weekday\", y = \"duration_sec\", data = bike_df.groupby(['start_weekday', 'start_month', 'year'], as_index = False).mean(), palette = \"viridis\")\n",
    "\n",
    "plt.tight_layout()\n",
    "#cur_axes = plt.gca()\n",
    "#cur_axes.axes.get_yaxis().set_visible(False)\n",
    "sns.despine(fig, left = True)\n",
    "plt.ylim((0, 2000))\n",
    "plt.xlabel(\"\")\n",
    "plt.ylabel(\"Duration in seconds\")\n",
    "plt.title(\"Average trip duration per day\")\n",
    "\n",
    "ax.set(xticklabels=[\"Mon\", \"Tue\", \"Wed\", \"Thu\", \"Fri\", \"Sat\", \"Sun\"]);"
   ]
  },
  {
   "cell_type": "markdown",
   "metadata": {},
   "source": [
    "**Despite what we have seen before that Saturday and Sunday have less rental counts, they have more rental durtion**"
   ]
  },
  {
   "cell_type": "code",
   "execution_count": 4,
   "metadata": {
    "colab": {
     "base_uri": "https://localhost:8080/",
     "height": 531
    },
    "id": "8nvTkPrM-taT",
    "outputId": "8a7dd4f1-fdb9-4a0c-d97e-dc9ea2755b00"
   },
   "outputs": [],
   "source": [
    "# g = sns.FacetGrid(data = bike_df, col = 'user_type')\n",
    "# g.map(plt.hist)"
   ]
  },
  {
   "cell_type": "code",
   "execution_count": 17,
   "metadata": {
    "colab": {
     "base_uri": "https://localhost:8080/",
     "height": 291
    },
    "id": "wBOxCGrR-tW3",
    "outputId": "dc6a4ca8-5e62-437a-f899-bea663b2870e"
   },
   "outputs": [
    {
     "data": {
      "image/png": "[encoded data removed]",
      "text/plain": [
       "<Figure size 432x288 with 1 Axes>"
      ]
     },
     "metadata": {
      "needs_background": "light",
      "tags": []
     },
     "output_type": "display_data"
    }
   ],
   "source": [
    "g = sns.countplot(data = bike_df, x = \"user_type\", order = bike_df.user_type.value_counts().index)"
   ]
  },
  {
   "cell_type": "code",
   "execution_count": 24,
   "metadata": {
    "colab": {
     "base_uri": "https://localhost:8080/",
     "height": 385
    },
    "id": "b4_fMhyr-tUT",
    "outputId": "04a789a9-cfc6-4bee-e608-ab057b1a54e9"
   },
   "outputs": [
    {
     "data": {
      "text/plain": [
       "<seaborn.axisgrid.FacetGrid at 0x7f7b847ec080>"
      ]
     },
     "execution_count": 24,
     "metadata": {
      "tags": []
     },
     "output_type": "execute_result"
    },
    {
     "data": {
      "image/png": "[encoded data removed]",
      "text/plain": [
       "<Figure size 720x360 with 2 Axes>"
      ]
     },
     "metadata": {
      "needs_background": "light",
      "tags": []
     },
     "output_type": "display_data"
    }
   ],
   "source": [
    "graph = sns.catplot(data=bike_df, x='start_month', col=\"user_type\", kind='count', sharey = True, color = bc);\n",
    "\n",
    "graph.set_axis_labels(\"Month\", \"Number of Bike Trips\");\n",
    "graph.set_titles(\"{col_name}\")"
   ]
  },
  {
   "cell_type": "code",
   "execution_count": 32,
   "metadata": {
    "colab": {
     "base_uri": "https://localhost:8080/",
     "height": 385
    },
    "id": "GvH7DFmb-tQh",
    "outputId": "dd1c2a2a-c9c9-455d-b839-8dc81be0ed1e"
   },
   "outputs": [
    {
     "data": {
      "text/plain": [
       "<seaborn.axisgrid.FacetGrid at 0x7f7b5b750080>"
      ]
     },
     "execution_count": 32,
     "metadata": {
      "tags": []
     },
     "output_type": "execute_result"
    },
    {
     "data": {
      "image/png": "[encoded data removed]",
      "text/plain": [
       "<Figure size 720x360 with 2 Axes>"
      ]
     },
     "metadata": {
      "needs_background": "light",
      "tags": []
     },
     "output_type": "display_data"
    }
   ],
   "source": [
    "graph = sns.catplot(data=bike_df[bike_df.duration_sec < 6000], x='duration_sec', col=\"user_type\", kind='violin', sharey = True, color = bc);\n",
    "\n",
    "graph.set_axis_labels(\"Duration\", \"Number of Bike Trips\");\n",
    "graph.set_titles(\"{col_name}\")"
   ]
  },
  {
   "cell_type": "code",
   "execution_count": null,
   "metadata": {
    "id": "ToeSs-mHuLwP"
   },
   "outputs": [],
   "source": []
  }
 ],
 "metadata": {
  "colab": {
   "collapsed_sections": [],
   "name": "Communicate data findings.ipynb",
   "provenance": []
  },
  "kernelspec": {
   "display_name": "Python 3",
   "language": "python",
   "name": "python3"
  },
  "language_info": {
   "codemirror_mode": {
    "name": "ipython",
    "version": 3
   },
   "file_extension": ".py",
   "mimetype": "text/x-python",
   "name": "python",
   "nbconvert_exporter": "python",
   "pygments_lexer": "ipython3",
   "version": "3.7.6"
  }
 },
 "nbformat": 4,
 "nbformat_minor": 4
}
